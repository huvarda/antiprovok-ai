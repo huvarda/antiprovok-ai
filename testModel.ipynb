{
 "cells": [
  {
   "cell_type": "code",
   "execution_count": 1,
   "id": "0512cb89-1fb1-4874-9b05-a7395449708e",
   "metadata": {},
   "outputs": [],
   "source": [
    "import transformers\n",
    "from transformers import BertModel, BertTokenizerFast, AdamW, get_linear_schedule_with_warmup\n",
    "import torch\n",
    "import numpy as np\n",
    "import pandas as pd\n",
    "from sklearn.model_selection import train_test_split\n",
    "from sklearn.metrics import confusion_matrix, classification_report\n",
    "from collections import defaultdict\n",
    "from textwrap import wrap\n",
    "from torch import nn, optim\n",
    "from torch.utils.data import Dataset, DataLoader"
   ]
  },
  {
   "cell_type": "code",
   "execution_count": 2,
   "id": "c8ec4530-0e34-4771-8655-0a7fdcfdaa96",
   "metadata": {},
   "outputs": [],
   "source": [
    "torch.cuda.empty_cache()\n",
    "\n",
    "\n",
    "RANDOM_SEED = 42\n",
    "np.random.seed(RANDOM_SEED)\n",
    "torch.manual_seed(RANDOM_SEED)\n",
    "device = torch.device(\"cuda:0\")"
   ]
  },
  {
   "cell_type": "code",
   "execution_count": null,
   "id": "6b345c65-7ecb-441e-b66e-10f9f5305651",
   "metadata": {},
   "outputs": [],
   "source": [
    "class SentimentClassifier(nn.Module):\n",
    "\n",
    "    def __init__(self, n_classes):\n",
    "        super(SentimentClassifier, self).__init__()\n",
    "        self.bert = BertModel.from_pretrained('dbmdz/bert-base-turkish-uncased', return_dict=False)\n",
    "        self.drop = nn.Dropout(p=0.35)\n",
    "        self.out = nn.Linear(self.bert.config.hidden_size, n_classes)\n",
    "        self.softmax = nn.Softmax(dim=1)\n",
    "        \n",
    "    def forward(self, input_ids, attention_mask):\n",
    "        _, pooled_output = self.bert(input_ids=input_ids, attention_mask=attention_mask)\n",
    "        output = self.drop(pooled_output)\n",
    "        output = self.out(output)\n",
    "        return self.softmax(output)"
   ]
  },
  {
   "cell_type": "code",
   "execution_count": null,
   "id": "e1e211be-16f2-49c3-bcb1-0c044a0ac81f",
   "metadata": {},
   "outputs": [],
   "source": [
    "model = SentimentClassifier(2)\n",
    "model.load_state_dict(torch.load(\"output/model.bin\"))\n",
    "model = model.to(device)"
   ]
  },
  {
   "cell_type": "code",
   "execution_count": 10,
   "id": "356abc39-f2dd-4b41-b062-8852fb459587",
   "metadata": {},
   "outputs": [],
   "source": [
    "class_names = [\"nothing\", \"provocative\"]\n",
    "def GetTweetSentiment(model, tokenizer, tweet, device):\n",
    "    encodedTweet = tokenizer.encode_plus(tweet, max_length=128, add_special_tokens=True, pad_to_max_length=True, return_attention_mask=True, return_token_type_ids=False, return_tensors='pt')\n",
    "    input_ids = encodedTweet[\"input_ids\"].to(device)\n",
    "    attention_mask = encodedTweet[\"attention_mask\"].to(device)\n",
    "    output = model(input_ids, attention_mask)\n",
    "    _, prediction = torch.max(output, dim=1)\n",
    "    return prediction\n",
    "    \n",
    "tokenizer = transformers.BertTokenizerFast.from_pretrained('dbmdz/bert-base-turkish-uncased')\n"
   ]
  },
  {
   "cell_type": "code",
   "execution_count": 23,
   "id": "b1479d96-2f34-4a5c-b2c4-976dd7fca5b3",
   "metadata": {},
   "outputs": [
    {
     "name": "stdin",
     "output_type": "stream",
     "text": [
      "What's the tweet you wanna check?:  Yav he he komplo teorisi bunlar 💦💉🤯 Coronapass’ın ileride derinin altına yerleştirecekleri dijital bir kimliğe dönüşeceğini görmemek için ya beyinsiz olmak lazım ya da işbirlikçi globalist... arası yok! Aptallar ve globalistler köpek gibi çiplenebilir. Teşekkürler ben almiyim!\n"
     ]
    },
    {
     "name": "stdout",
     "output_type": "stream",
     "text": [
      "provocative\n"
     ]
    }
   ],
   "source": [
    "tweet = input(\"What's the tweet you wanna check?: \")\n",
    "pred = GetTweetSentiment(model, tokenizer, tweet, device)\n",
    "print(class_names[pred])"
   ]
  },
  {
   "cell_type": "code",
   "execution_count": null,
   "id": "5740555c-ec90-4fd3-8c04-b780cfac9df2",
   "metadata": {},
   "outputs": [],
   "source": []
  },
  {
   "cell_type": "code",
   "execution_count": null,
   "id": "f5334c2c-3533-47e0-b829-fb49c9967189",
   "metadata": {},
   "outputs": [],
   "source": []
  }
 ],
 "metadata": {
  "kernelspec": {
   "display_name": "PagMan",
   "language": "python",
   "name": "pagman"
  },
  "language_info": {
   "codemirror_mode": {
    "name": "ipython",
    "version": 3
   },
   "file_extension": ".py",
   "mimetype": "text/x-python",
   "name": "python",
   "nbconvert_exporter": "python",
   "pygments_lexer": "ipython3",
   "version": "3.8.11"
  }
 },
 "nbformat": 4,
 "nbformat_minor": 5
}
