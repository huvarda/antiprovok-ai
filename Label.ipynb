{
 "cells": [
  {
   "cell_type": "code",
   "execution_count": 2,
   "id": "ad64148b-151e-4b7c-8b9d-ec6b10b67af0",
   "metadata": {},
   "outputs": [
    {
     "name": "stdout",
     "output_type": "stream",
     "text": [
      "['akpliTweets.csv', 'amaTweets.csv', 'beyinsizTweets.csv', 'chpliTweets.csv', 'dinsiz -dinizTweets.csv', 'ermeniTweets.csv', 'goodTweets.csv', 'göbek kaşıyanTweets.csv', 'kemalistTweets.csv', 'veTweets.csv', 'yobazTweets.csv']\n"
     ]
    }
   ],
   "source": [
    "import os\n",
    "import pandas as pd\n",
    "import pigeonXT as pixt\n",
    "\n",
    "csvs = os.listdir(\"newCsv/\")\n",
    "print(csvs)"
   ]
  },
  {
   "cell_type": "code",
   "execution_count": 2,
   "id": "c0005b51-e2fe-4ad3-8537-8befa62a9401",
   "metadata": {},
   "outputs": [],
   "source": [
    "import random\n",
    "\n",
    "random.seed = 10"
   ]
  },
  {
   "cell_type": "code",
   "execution_count": 12,
   "id": "deaa2d8a-b9a9-4410-9df1-554faac52374",
   "metadata": {},
   "outputs": [],
   "source": [
    "alreadyLabelled = []\n",
    "for file in os.listdir(\"output/\"):\n",
    "    if \".csv\" in file:\n",
    "        data = pd.read_csv(\"output/\"+file)\n",
    "        tweets = data[\"example\"].tolist()\n",
    "        alreadyLabelled += tweets\n"
   ]
  },
  {
   "cell_type": "code",
   "execution_count": 20,
   "id": "19b61a14-1fc8-4573-866d-c7a2104bc28a",
   "metadata": {},
   "outputs": [
    {
     "name": "stdout",
     "output_type": "stream",
     "text": [
      "60595\n"
     ]
    }
   ],
   "source": [
    "tweetList = []\n",
    "for csv in csvs:\n",
    "    data = pd.read_csv(\"newCsv/\"+csv)\n",
    "    tweets = data[\"tweet\"].tolist()\n",
    "    tweetList += tweets\n",
    "\n",
    "tweetList = [x for x in tweetList if x not in alreadyLabelled]\n",
    "\n",
    "tweetList = random.sample(tweetList, len(tweetList))\n",
    "print(len(tweetList))\n",
    "chunk = tweetList[0:1000]#[tweetList[x:x+1000] for x in range(0, len(tweetList), 1000)]\n"
   ]
  },
  {
   "cell_type": "code",
   "execution_count": 21,
   "id": "62547298-4a7c-4b5f-9363-26f7139f9367",
   "metadata": {},
   "outputs": [
    {
     "data": {
      "application/vnd.jupyter.widget-view+json": {
       "model_id": "c10f8955db5f4abfb02dfe542ef5a1a9",
       "version_major": 2,
       "version_minor": 0
      },
      "text/plain": [
       "HTML(value='0 of 1000 Examples annotated, Current Position: 0 ')"
      ]
     },
     "metadata": {},
     "output_type": "display_data"
    },
    {
     "data": {
      "application/vnd.jupyter.widget-view+json": {
       "model_id": "8a3630b3904448f3b34e7ef96a4c9085",
       "version_major": 2,
       "version_minor": 0
      },
      "text/plain": [
       "VBox(children=(HBox(children=(Button(description='neither', style=ButtonStyle()), Button(description='politica…"
      ]
     },
     "metadata": {},
     "output_type": "display_data"
    },
    {
     "data": {
      "application/vnd.jupyter.widget-view+json": {
       "model_id": "6ecc413d5ae44033ac6f442fd6a21111",
       "version_major": 2,
       "version_minor": 0
      },
      "text/plain": [
       "Output()"
      ]
     },
     "metadata": {},
     "output_type": "display_data"
    }
   ],
   "source": [
    "annotations = pixt.annotate(chunk,options=['neither', 'political', 'provocative', 'unusable'])"
   ]
  },
  {
   "cell_type": "code",
   "execution_count": 22,
   "id": "7db56dfa-bfa6-4a22-9f7a-a2fd22a0f6aa",
   "metadata": {},
   "outputs": [],
   "source": [
    "annotations.to_csv(\"output/outputNewCategories00.csv\", columns=[\"example\", \"label\"], index=None)"
   ]
  }
 ],
 "metadata": {
  "kernelspec": {
   "display_name": "PagMan",
   "language": "python",
   "name": "pagman"
  },
  "language_info": {
   "codemirror_mode": {
    "name": "ipython",
    "version": 3
   },
   "file_extension": ".py",
   "mimetype": "text/x-python",
   "name": "python",
   "nbconvert_exporter": "python",
   "pygments_lexer": "ipython3",
   "version": "3.8.11"
  }
 },
 "nbformat": 4,
 "nbformat_minor": 5
}
